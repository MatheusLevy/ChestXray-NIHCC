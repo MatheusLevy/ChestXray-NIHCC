{
 "cells": [
  {
   "cell_type": "code",
   "execution_count": 1,
   "metadata": {},
   "outputs": [
    {
     "name": "stderr",
     "output_type": "stream",
     "text": [
      "2024-02-04 01:51:00.115455: I tensorflow/core/platform/cpu_feature_guard.cc:193] This TensorFlow binary is optimized with oneAPI Deep Neural Network Library (oneDNN) to use the following CPU instructions in performance-critical operations:  AVX2 FMA\n",
      "To enable them in other operations, rebuild TensorFlow with the appropriate compiler flags.\n",
      "2024-02-04 01:51:00.393598: E tensorflow/stream_executor/cuda/cuda_blas.cc:2981] Unable to register cuBLAS factory: Attempting to register factory for plugin cuBLAS when one has already been registered\n",
      "2024-02-04 01:51:01.076542: W tensorflow/stream_executor/platform/default/dso_loader.cc:64] Could not load dynamic library 'libnvinfer.so.7'; dlerror: libnvinfer.so.7: cannot open shared object file: No such file or directory\n",
      "2024-02-04 01:51:01.076603: W tensorflow/stream_executor/platform/default/dso_loader.cc:64] Could not load dynamic library 'libnvinfer_plugin.so.7'; dlerror: libnvinfer_plugin.so.7: cannot open shared object file: No such file or directory\n",
      "2024-02-04 01:51:01.076609: W tensorflow/compiler/tf2tensorrt/utils/py_utils.cc:38] TF-TRT Warning: Cannot dlopen some TensorRT libraries. If you would like to use Nvidia GPU with TensorRT, please make sure the missing libraries mentioned above are installed properly.\n"
     ]
    }
   ],
   "source": [
    "import numpy as np\n",
    "import keras\n",
    "from keras import layers\n",
    "from keras.applications import VGG16\n",
    "from keras.layers import Dense, Flatten, Dropout, BatchNormalization, Input, Concatenate\n",
    "from keras.models import Model"
   ]
  },
  {
   "cell_type": "code",
   "execution_count": 26,
   "metadata": {},
   "outputs": [],
   "source": [
    "def global_branch(input_shape):\n",
    "  densenet121 = tf.keras.applications.DenseNet121(input_shape= input_shape, include_top= False, weights=\"imagenet\")\n",
    "  densenet121._name= 'densenet121_global_branch'\n",
    "  return densenet121"
   ]
  },
  {
   "cell_type": "code",
   "execution_count": 27,
   "metadata": {},
   "outputs": [],
   "source": [
    "def local_branch(input_shape):\n",
    "  densenet121 = tf.keras.applications.DenseNet121(input_shape= input_shape, include_top= False, weights=\"imagenet\")\n",
    "  densenet121._name= 'densenet121_local_branch'\n",
    "  return densenet121"
   ]
  },
  {
   "cell_type": "code",
   "execution_count": 7,
   "metadata": {},
   "outputs": [],
   "source": [
    "from tensorflow.keras.layers import GlobalAveragePooling2D, Reshape, Dense, Permute, multiply\n",
    "import tensorflow.keras.backend as K\n",
    "\n",
    "def squeeze_excite_block(tensor, ratio=16):\n",
    "    init = tensor\n",
    "    channel_axis = 1 if K.image_data_format() == \"channels_first\" else -1\n",
    "    filters = init.shape[channel_axis]\n",
    "    se_shape = (1, 1, filters)\n",
    "\n",
    "    se = GlobalAveragePooling2D()(init)\n",
    "    se = Reshape(se_shape)(se)\n",
    "    se = Dense(filters // ratio, activation='relu', kernel_initializer='he_normal', use_bias=False)(se)\n",
    "    se = Dense(filters, activation='sigmoid', kernel_initializer='he_normal', use_bias=False)(se)\n",
    "\n",
    "    if K.image_data_format() == 'channels_first':\n",
    "        se = Permute((3, 1, 2))(se)\n",
    "\n",
    "    x = multiply([init, se])\n",
    "    return x\n"
   ]
  },
  {
   "cell_type": "code",
   "execution_count": 9,
   "metadata": {},
   "outputs": [],
   "source": [
    "img_shape= (224,224,3)\n",
    "local_encoder = local_branch(img_shape)\n",
    "global_encoder = global_branch(img_shape)"
   ]
  },
  {
   "cell_type": "code",
   "execution_count": 22,
   "metadata": {},
   "outputs": [],
   "source": [
    "def model_fusion(local_encoder, global_encoder):\n",
    "#   global_encoder._name = \"Level_1\"\n",
    "#   local_encoder._name = \"Level_2\"\n",
    "\n",
    "  for layer in local_encoder.layers:\n",
    "      layer._name = layer.name + str(\"_2\")\n",
    "\n",
    "  local_features = local_encoder.output\n",
    "  global_features = global_encoder.output\n",
    "  concatenated_volume = Concatenate(axis=-1)([local_features, global_features])\n",
    "\n",
    "  se_block_out = squeeze_excite_block(concatenated_volume)\n",
    "  # Clasification fusion\n",
    "  x_F = layers.Flatten()(se_block_out)\n",
    "  classification_fusion =  layers.Dense(15, activation=\"sigmoid\")(x_F)\n",
    "\n",
    "  fusion_model = Model(\n",
    "      inputs=[local_encoder.input, global_encoder.input], outputs= [classification_fusion]\n",
    "  )\n",
    "\n",
    "  return fusion_model"
   ]
  },
  {
   "cell_type": "code",
   "execution_count": 23,
   "metadata": {},
   "outputs": [],
   "source": [
    "f_model = model_fusion(local_encoder, global_encoder)"
   ]
  },
  {
   "cell_type": "code",
   "execution_count": 24,
   "metadata": {},
   "outputs": [
    {
     "name": "stdout",
     "output_type": "stream",
     "text": [
      "Model: \"model_2\"\n",
      "__________________________________________________________________________________________________\n",
      " Layer (type)                   Output Shape         Param #     Connected to                     \n",
      "==================================================================================================\n",
      " input_1_2_2 (InputLayer)       [(None, 224, 224, 3  0           []                               \n",
      "                                )]                                                                \n",
      "                                                                                                  \n",
      " input_2 (InputLayer)           [(None, 224, 224, 3  0           []                               \n",
      "                                )]                                                                \n",
      "                                                                                                  \n",
      " block1_conv1_2_2 (Conv2D)      (None, 224, 224, 64  1792        ['input_1_2_2[0][0]']            \n",
      "                                )                                                                 \n",
      "                                                                                                  \n",
      " block1_conv1 (Conv2D)          (None, 224, 224, 64  1792        ['input_2[0][0]']                \n",
      "                                )                                                                 \n",
      "                                                                                                  \n",
      " block1_conv2_2_2 (Conv2D)      (None, 224, 224, 64  36928       ['block1_conv1_2_2[0][0]']       \n",
      "                                )                                                                 \n",
      "                                                                                                  \n",
      " block1_conv2 (Conv2D)          (None, 224, 224, 64  36928       ['block1_conv1[0][0]']           \n",
      "                                )                                                                 \n",
      "                                                                                                  \n",
      " block1_pool_2_2 (MaxPooling2D)  (None, 112, 112, 64  0          ['block1_conv2_2_2[0][0]']       \n",
      "                                )                                                                 \n",
      "                                                                                                  \n",
      " block1_pool (MaxPooling2D)     (None, 112, 112, 64  0           ['block1_conv2[0][0]']           \n",
      "                                )                                                                 \n",
      "                                                                                                  \n",
      " block2_conv1_2_2 (Conv2D)      (None, 112, 112, 12  73856       ['block1_pool_2_2[0][0]']        \n",
      "                                8)                                                                \n",
      "                                                                                                  \n",
      " block2_conv1 (Conv2D)          (None, 112, 112, 12  73856       ['block1_pool[0][0]']            \n",
      "                                8)                                                                \n",
      "                                                                                                  \n",
      " block2_conv2_2_2 (Conv2D)      (None, 112, 112, 12  147584      ['block2_conv1_2_2[0][0]']       \n",
      "                                8)                                                                \n",
      "                                                                                                  \n",
      " block2_conv2 (Conv2D)          (None, 112, 112, 12  147584      ['block2_conv1[0][0]']           \n",
      "                                8)                                                                \n",
      "                                                                                                  \n",
      " block2_pool_2_2 (MaxPooling2D)  (None, 56, 56, 128)  0          ['block2_conv2_2_2[0][0]']       \n",
      "                                                                                                  \n",
      " block2_pool (MaxPooling2D)     (None, 56, 56, 128)  0           ['block2_conv2[0][0]']           \n",
      "                                                                                                  \n",
      " block3_conv1_2_2 (Conv2D)      (None, 56, 56, 256)  295168      ['block2_pool_2_2[0][0]']        \n",
      "                                                                                                  \n",
      " block3_conv1 (Conv2D)          (None, 56, 56, 256)  295168      ['block2_pool[0][0]']            \n",
      "                                                                                                  \n",
      " block3_conv2_2_2 (Conv2D)      (None, 56, 56, 256)  590080      ['block3_conv1_2_2[0][0]']       \n",
      "                                                                                                  \n",
      " block3_conv2 (Conv2D)          (None, 56, 56, 256)  590080      ['block3_conv1[0][0]']           \n",
      "                                                                                                  \n",
      " block3_conv3_2_2 (Conv2D)      (None, 56, 56, 256)  590080      ['block3_conv2_2_2[0][0]']       \n",
      "                                                                                                  \n",
      " block3_conv3 (Conv2D)          (None, 56, 56, 256)  590080      ['block3_conv2[0][0]']           \n",
      "                                                                                                  \n",
      " block3_pool_2_2 (MaxPooling2D)  (None, 28, 28, 256)  0          ['block3_conv3_2_2[0][0]']       \n",
      "                                                                                                  \n",
      " block3_pool (MaxPooling2D)     (None, 28, 28, 256)  0           ['block3_conv3[0][0]']           \n",
      "                                                                                                  \n",
      " block4_conv1_2_2 (Conv2D)      (None, 28, 28, 512)  1180160     ['block3_pool_2_2[0][0]']        \n",
      "                                                                                                  \n",
      " block4_conv1 (Conv2D)          (None, 28, 28, 512)  1180160     ['block3_pool[0][0]']            \n",
      "                                                                                                  \n",
      " block4_conv2_2_2 (Conv2D)      (None, 28, 28, 512)  2359808     ['block4_conv1_2_2[0][0]']       \n",
      "                                                                                                  \n",
      " block4_conv2 (Conv2D)          (None, 28, 28, 512)  2359808     ['block4_conv1[0][0]']           \n",
      "                                                                                                  \n",
      " block4_conv3_2_2 (Conv2D)      (None, 28, 28, 512)  2359808     ['block4_conv2_2_2[0][0]']       \n",
      "                                                                                                  \n",
      " block4_conv3 (Conv2D)          (None, 28, 28, 512)  2359808     ['block4_conv2[0][0]']           \n",
      "                                                                                                  \n",
      " block4_pool_2_2 (MaxPooling2D)  (None, 14, 14, 512)  0          ['block4_conv3_2_2[0][0]']       \n",
      "                                                                                                  \n",
      " block4_pool (MaxPooling2D)     (None, 14, 14, 512)  0           ['block4_conv3[0][0]']           \n",
      "                                                                                                  \n",
      " block5_conv1_2_2 (Conv2D)      (None, 14, 14, 512)  2359808     ['block4_pool_2_2[0][0]']        \n",
      "                                                                                                  \n",
      " block5_conv1 (Conv2D)          (None, 14, 14, 512)  2359808     ['block4_pool[0][0]']            \n",
      "                                                                                                  \n",
      " block5_conv2_2_2 (Conv2D)      (None, 14, 14, 512)  2359808     ['block5_conv1_2_2[0][0]']       \n",
      "                                                                                                  \n",
      " block5_conv2 (Conv2D)          (None, 14, 14, 512)  2359808     ['block5_conv1[0][0]']           \n",
      "                                                                                                  \n",
      " block5_conv3_2_2 (Conv2D)      (None, 14, 14, 512)  2359808     ['block5_conv2_2_2[0][0]']       \n",
      "                                                                                                  \n",
      " block5_conv3 (Conv2D)          (None, 14, 14, 512)  2359808     ['block5_conv2[0][0]']           \n",
      "                                                                                                  \n",
      " block5_pool_2_2 (MaxPooling2D)  (None, 7, 7, 512)   0           ['block5_conv3_2_2[0][0]']       \n",
      "                                                                                                  \n",
      " block5_pool (MaxPooling2D)     (None, 7, 7, 512)    0           ['block5_conv3[0][0]']           \n",
      "                                                                                                  \n",
      " concatenate_3 (Concatenate)    (None, 7, 7, 1024)   0           ['block5_pool_2_2[0][0]',        \n",
      "                                                                  'block5_pool[0][0]']            \n",
      "                                                                                                  \n",
      " global_average_pooling2d_3 (Gl  (None, 1024)        0           ['concatenate_3[0][0]']          \n",
      " obalAveragePooling2D)                                                                            \n",
      "                                                                                                  \n",
      " reshape_3 (Reshape)            (None, 1, 1, 1024)   0           ['global_average_pooling2d_3[0][0\n",
      "                                                                 ]']                              \n",
      "                                                                                                  \n",
      " dense_12 (Dense)               (None, 1, 1, 64)     65536       ['reshape_3[0][0]']              \n",
      "                                                                                                  \n",
      " dense_13 (Dense)               (None, 1, 1, 1024)   65536       ['dense_12[0][0]']               \n",
      "                                                                                                  \n",
      " multiply_3 (Multiply)          (None, 7, 7, 1024)   0           ['concatenate_3[0][0]',          \n",
      "                                                                  'dense_13[0][0]']               \n",
      "                                                                                                  \n",
      " flatten_3 (Flatten)            (None, 50176)        0           ['multiply_3[0][0]']             \n",
      "                                                                                                  \n",
      " dense_14 (Dense)               (None, 64)           3211328     ['flatten_3[0][0]']              \n",
      "                                                                                                  \n",
      " dense_15 (Dense)               (None, 15)           975         ['dense_14[0][0]']               \n",
      "                                                                                                  \n",
      "==================================================================================================\n",
      "Total params: 32,772,751\n",
      "Trainable params: 32,772,751\n",
      "Non-trainable params: 0\n",
      "__________________________________________________________________________________________________\n"
     ]
    }
   ],
   "source": [
    "f_model.summary()"
   ]
  }
 ],
 "metadata": {
  "kernelspec": {
   "display_name": "lucas_env",
   "language": "python",
   "name": "python3"
  },
  "language_info": {
   "codemirror_mode": {
    "name": "ipython",
    "version": 3
   },
   "file_extension": ".py",
   "mimetype": "text/x-python",
   "name": "python",
   "nbconvert_exporter": "python",
   "pygments_lexer": "ipython3",
   "version": "3.10.0"
  }
 },
 "nbformat": 4,
 "nbformat_minor": 2
}
